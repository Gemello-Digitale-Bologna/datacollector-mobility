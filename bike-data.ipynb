{
 "cells": [
  {
   "cell_type": "code",
   "execution_count": 1,
   "metadata": {},
   "outputs": [],
   "source": [
    "import digitalhub as dh\n",
    "import os\n",
    "PROJECT_NAME = \"mobility-data\"\n",
    "project = dh.get_or_create_project(PROJECT_NAME)"
   ]
  },
  {
   "cell_type": "code",
   "execution_count": 2,
   "metadata": {},
   "outputs": [],
   "source": [
    "new_folder ='src'\n",
    "if not os.path.exists(new_folder):\n",
    "    os.makedirs(new_folder)"
   ]
  },
  {
   "cell_type": "code",
   "execution_count": 11,
   "metadata": {},
   "outputs": [],
   "source": [
    "func_download_bike = project.new_function(name=\"download-bike\",\n",
    "                                               kind=\"python\",\n",
    "                                               python_version=\"PYTHON3_10\",\n",
    "                                               source={\"source\": \"src/download-bike.py\", \"handler\": \"download_bike_flow_by_year\"},\n",
    "                                               requirements= [\"geopandas\"])"
   ]
  },
  {
   "cell_type": "code",
   "execution_count": 12,
   "metadata": {},
   "outputs": [],
   "source": [
    "run_download_bike = func_download_bike.run(action=\"job\", parameters={'bucket': 'datalake', 'year': '2024'}, local_execution=False)"
   ]
  },
  {
   "cell_type": "code",
   "execution_count": 13,
   "metadata": {},
   "outputs": [],
   "source": [
    "func_download_bike_latest = project.new_function(name=\"download-bike-latest\",\n",
    "                                               kind=\"python\",\n",
    "                                               python_version=\"PYTHON3_10\",\n",
    "                                               source={\"source\": \"src/download-bike.py\", \"handler\": \"download_bike_flow_latest\"},\n",
    "                                               requirements= [\"geopandas\"])"
   ]
  },
  {
   "cell_type": "code",
   "execution_count": 14,
   "metadata": {},
   "outputs": [],
   "source": [
    "run_download_bike_latest = func_download_bike_latest.run(action=\"job\", parameters={'bucket': 'datalake'}, local_execution=False)"
   ]
  }
 ],
 "metadata": {
  "kernelspec": {
   "display_name": "Python 3 (ipykernel)",
   "language": "python",
   "name": "python3"
  },
  "language_info": {
   "codemirror_mode": {
    "name": "ipython",
    "version": 3
   },
   "file_extension": ".py",
   "mimetype": "text/x-python",
   "name": "python",
   "nbconvert_exporter": "python",
   "pygments_lexer": "ipython3",
   "version": "3.10.11"
  }
 },
 "nbformat": 4,
 "nbformat_minor": 4
}
