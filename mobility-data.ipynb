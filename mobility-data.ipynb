{
 "cells": [
  {
   "cell_type": "code",
   "execution_count": null,
   "id": "d762ac00-0198-4156-bfe9-a2a4c2b8a91c",
   "metadata": {
    "tags": []
   },
   "outputs": [],
   "source": [
    "%pip install rasterio xarray rioxarray owslib osmnx h3 folium pandas==1.3.5"
   ]
  },
  {
   "cell_type": "code",
   "execution_count": 1,
   "id": "157b47e5-72c1-4b43-8eed-df71ce57a5d7",
   "metadata": {},
   "outputs": [],
   "source": [
    "import mlrun"
   ]
  },
  {
   "cell_type": "code",
   "execution_count": 2,
   "id": "1620db2a-7459-4c8d-90d1-17674d649740",
   "metadata": {},
   "outputs": [],
   "source": [
    "query = \"Bologna\""
   ]
  },
  {
   "cell_type": "markdown",
   "id": "bbea8607-42d6-4602-b22d-066c9a73bf5f",
   "metadata": {},
   "source": [
    "# Create Project"
   ]
  },
  {
   "cell_type": "code",
   "execution_count": 3,
   "id": "e9e8fec4-5e72-4940-8f2d-b46cbd71ea66",
   "metadata": {},
   "outputs": [
    {
     "name": "stdout",
     "output_type": "stream",
     "text": [
      "> 2024-06-13 14:18:43,348 [info] Project loaded successfully: {'project_name': 'mobility-data'}\n"
     ]
    }
   ],
   "source": [
    "project = mlrun.get_or_create_project(\"mobility-data\", context=\"./\") "
   ]
  },
  {
   "cell_type": "markdown",
   "id": "28efbbe7-6c01-41af-8e9b-73973a0fc706",
   "metadata": {},
   "source": [
    "# Define and Build Functions: Download OSM-related Data"
   ]
  },
  {
   "cell_type": "code",
   "execution_count": 4,
   "id": "291cb50d-6354-47c6-b070-f17d822f92e0",
   "metadata": {
    "collapsed": true,
    "jupyter": {
     "outputs_hidden": true
    },
    "tags": []
   },
   "outputs": [
    {
     "name": "stdout",
     "output_type": "stream",
     "text": [
      "> 2024-06-13 14:18:48,013 [warning] Failed to add git metadata, ignore if path is not part of a git repo.: {'path': 'src', 'error': \"Reference at 'refs/heads/master' does not exist\"}\n",
      "> 2024-06-13 14:18:48,076 [warning] Failed to add git metadata, ignore if path is not part of a git repo.: {'path': 'src', 'error': \"Reference at 'refs/heads/master' does not exist\"}\n",
      "> 2024-06-13 14:18:48,123 [warning] Failed to add git metadata, ignore if path is not part of a git repo.: {'path': 'src', 'error': \"Reference at 'refs/heads/master' does not exist\"}\n",
      "> 2024-06-13 14:18:48,166 [warning] Failed to add git metadata, ignore if path is not part of a git repo.: {'path': 'src', 'error': \"Reference at 'refs/heads/master' does not exist\"}\n"
     ]
    },
    {
     "data": {
      "text/plain": [
       "<mlrun.projects.project.MlrunProject at 0x7ff458a28040>"
      ]
     },
     "execution_count": 4,
     "metadata": {},
     "output_type": "execute_result"
    }
   ],
   "source": [
    "project.set_function(\"src/download-data.py\", name=\"download-dem\", kind=\"job\", image=\"mlrun/mlrun\", handler=\"download_dem\", requirements=[\"rasterio\", \"xarray\", \"rioxarray\", \"owslib\", \"osmnx\", \"h3\", \"folium\", \"pandas==1.3.5\"])\n",
    "project.set_function(\"src/download-data.py\", name=\"download-osm\", kind=\"job\", image=\"mlrun/mlrun\", handler=\"download_osm\", requirements=[\"rasterio\", \"xarray\", \"rioxarray\", \"owslib\", \"osmnx\", \"h3\", \"folium\", \"pandas==1.3.5\"])\n",
    "project.set_function(\"src/download-data.py\", name=\"merge-osm-dem\", kind=\"job\", image=\"mlrun/mlrun\", handler=\"merge_osm_dem\", requirements=[\"rasterio\", \"xarray\", \"rioxarray\", \"owslib\", \"osmnx\", \"h3\", \"folium\", \"pandas==1.3.5\"])\n",
    "project.set_function(\"src/share-data.py\", name=\"share\", kind=\"job\", image=\"mlrun/mlrun\", handler=\"share_files\")\n",
    "project.save()"
   ]
  },
  {
   "cell_type": "code",
   "execution_count": null,
   "id": "a075cb90-8269-4ee4-ab9d-254cc420103b",
   "metadata": {
    "tags": []
   },
   "outputs": [],
   "source": [
    "project.build_function(\"download-dem\")\n",
    "project.build_function(\"download-osm\")\n",
    "project.build_function(\"merge-osm-dem\")\n",
    "project.save()"
   ]
  },
  {
   "cell_type": "markdown",
   "id": "e64dc73b-a5e0-49ce-8ad6-b2716f73b858",
   "metadata": {},
   "source": [
    "# Define and Build Functions: Download Bologna Open Data"
   ]
  },
  {
   "cell_type": "code",
   "execution_count": 5,
   "id": "b9d00fb6-8fee-4617-9b58-e7f0ccfe0c28",
   "metadata": {
    "collapsed": true,
    "jupyter": {
     "outputs_hidden": true
    },
    "tags": []
   },
   "outputs": [
    {
     "name": "stdout",
     "output_type": "stream",
     "text": [
      "> 2024-06-13 14:18:56,713 [warning] Failed to add git metadata, ignore if path is not part of a git repo.: {'path': 'src', 'error': \"Reference at 'refs/heads/master' does not exist\"}\n",
      "> 2024-06-13 14:18:56,725 [warning] Failed to add git metadata, ignore if path is not part of a git repo.: {'path': 'src', 'error': \"Reference at 'refs/heads/master' does not exist\"}\n",
      "> 2024-06-13 14:18:56,737 [warning] Failed to add git metadata, ignore if path is not part of a git repo.: {'path': 'src', 'error': \"Reference at 'refs/heads/master' does not exist\"}\n",
      "> 2024-06-13 14:18:56,746 [warning] Failed to add git metadata, ignore if path is not part of a git repo.: {'path': 'src', 'error': \"Reference at 'refs/heads/master' does not exist\"}\n",
      "> 2024-06-13 14:18:56,755 [warning] Failed to add git metadata, ignore if path is not part of a git repo.: {'path': 'src', 'error': \"Reference at 'refs/heads/master' does not exist\"}\n",
      "> 2024-06-13 14:18:56,765 [warning] Failed to add git metadata, ignore if path is not part of a git repo.: {'path': 'src', 'error': \"Reference at 'refs/heads/master' does not exist\"}\n"
     ]
    },
    {
     "data": {
      "text/plain": [
       "<mlrun.projects.project.MlrunProject at 0x7ff458a28040>"
      ]
     },
     "execution_count": 5,
     "metadata": {},
     "output_type": "execute_result"
    }
   ],
   "source": [
    "project.set_function(\"src/download-open-data.py\", name=\"download-road-areas\", kind=\"job\", image=\"mlrun/mlrun\", handler=\"download_road_areas\", requirements=[\"geopandas==0.13.2\"])\n",
    "project.set_function(\"src/download-open-data.py\", name=\"download-road-edges\", kind=\"job\", image=\"mlrun/mlrun\", handler=\"download_road_edges\", requirements=[\"geopandas==0.13.2\"])\n",
    "project.set_function(\"src/download-open-data.py\", name=\"download-road-nodes\", kind=\"job\", image=\"mlrun/mlrun\", handler=\"download_road_nodes\", requirements=[\"geopandas==0.13.2\"])\n",
    "project.set_function(\"src/download-open-data.py\", name=\"download-curves\", kind=\"job\", image=\"mlrun/mlrun\", handler=\"download_curves\", requirements=[\"geopandas==0.13.2\"])\n",
    "project.set_function(\"src/download-open-data.py\", name=\"download-sidewalks\", kind=\"job\", image=\"mlrun/mlrun\", handler=\"download_sidewalks\", requirements=[\"geopandas==0.13.2\"])\n",
    "project.set_function(\"src/download-open-data.py\", name=\"download-city30\", kind=\"job\", image=\"mlrun/mlrun\", handler=\"download_city_30\", requirements=[\"geopandas==0.13.2\"])\n",
    "project.save()"
   ]
  },
  {
   "cell_type": "code",
   "execution_count": null,
   "id": "7bdc88a7-a1b5-4ad7-8476-ab14827a90a8",
   "metadata": {
    "tags": []
   },
   "outputs": [],
   "source": [
    "project.build_function(\"download-road-areas\")\n",
    "project.build_function(\"download-road-edges\")\n",
    "project.build_function(\"download-road-nodes\")\n",
    "project.build_function(\"download-curves\")\n",
    "project.build_function(\"download-sidewalks\")\n",
    "project.build_function(\"download-city30\")\n",
    "project.save()"
   ]
  },
  {
   "cell_type": "markdown",
   "id": "4db27896-dd07-47e5-b1a4-b6c731b427be",
   "metadata": {},
   "source": [
    "# Defnie and Execute Pipeline "
   ]
  },
  {
   "cell_type": "code",
   "execution_count": 6,
   "id": "140ba768-c1ff-4f04-89e4-7892b08f6553",
   "metadata": {},
   "outputs": [
    {
     "data": {
      "text/plain": [
       "<mlrun.projects.project.MlrunProject at 0x7ff458a28040>"
      ]
     },
     "execution_count": 6,
     "metadata": {},
     "output_type": "execute_result"
    }
   ],
   "source": [
    "project.set_workflow(\"mobility-data-pipeline\", \"./src/mobility-data-pipeline.py\", handler=\"pipeline\")\n",
    "project.save()"
   ]
  },
  {
   "cell_type": "markdown",
   "id": "3ef4a463-cfa5-468e-aac5-66001998aaa8",
   "metadata": {},
   "source": [
    "### Initialize Google Token for GDrive connection"
   ]
  },
  {
   "cell_type": "code",
   "execution_count": null,
   "id": "ac51795c-7723-4d60-8652-ffbae1d8abb8",
   "metadata": {},
   "outputs": [],
   "source": [
    "import os\n",
    "os.environ['GOOGLE_TOKEN'] = '<GOOGLE_TOKEN_JSON>' # for local execution\n",
    "project.set_secrets({\"GOOGLE_TOKEN\": os.environ['GOOGLE_TOKEN']}) # for remote execution"
   ]
  },
  {
   "cell_type": "markdown",
   "id": "dac5ed5e-f352-4862-9361-e45d11b6f1f2",
   "metadata": {},
   "source": [
    "### Run Pipeline"
   ]
  },
  {
   "cell_type": "code",
   "execution_count": null,
   "id": "05fa6ec9-0520-4e4d-a7bf-ecd22cc1b9ef",
   "metadata": {
    "tags": []
   },
   "outputs": [],
   "source": [
    "project.run(\"mobility-data-pipeline\", artifact_path='s3://datalake/projects/mobility-data/artifacts/mobility-data-pipeline')"
   ]
  },
  {
   "cell_type": "markdown",
   "id": "77ca9b20-f665-4a8b-9647-e3a1a3dc2c46",
   "metadata": {},
   "source": [
    "# Define and Build Functions: Download Traffic Spire"
   ]
  },
  {
   "cell_type": "code",
   "execution_count": null,
   "id": "e3603b2a-e9e7-47a6-8b0e-68b8d38f0b32",
   "metadata": {
    "tags": []
   },
   "outputs": [
    {
     "name": "stdout",
     "output_type": "stream",
     "text": [
      "> 2024-06-13 14:56:44,799 [warning] it is recommended to use k8s secret (specify secret_name), specifying the aws_access_key/aws_secret_key directly is unsafe\n",
      "> 2024-06-13 14:56:44,998 [info] Storing function: {'name': 'download-traffic-spire-get-spire', 'uid': '6a14afad918647adbed208751626b3ac', 'db': 'http://mlrun-api:8080'}\n",
      "> 2024-06-13 14:56:47,166 [info] Job is running in the background, pod: download-traffic-spire-get-spire-l6vhj\n"
     ]
    }
   ],
   "source": [
    "project.set_function(\"src/download-spire.py\", name=\"download-traffic-spire\", kind=\"job\", image=\"mlrun/mlrun\", handler=\"get_spire\")\n",
    "project.save()\n",
    "project.run_function(\"download-traffic-spire\", local=False)"
   ]
  }
 ],
 "metadata": {
  "kernelspec": {
   "display_name": "Python 3 (ipykernel)",
   "language": "python",
   "name": "python3"
  },
  "language_info": {
   "codemirror_mode": {
    "name": "ipython",
    "version": 3
   },
   "file_extension": ".py",
   "mimetype": "text/x-python",
   "name": "python",
   "nbconvert_exporter": "python",
   "pygments_lexer": "ipython3",
   "version": "3.9.13"
  }
 },
 "nbformat": 4,
 "nbformat_minor": 5
}
