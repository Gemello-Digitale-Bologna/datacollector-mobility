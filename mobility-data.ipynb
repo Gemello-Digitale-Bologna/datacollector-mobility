{
 "cells": [
  {
   "cell_type": "code",
   "execution_count": 1,
   "id": "6effd0c6-c127-4499-92aa-963101c4601d",
   "metadata": {},
   "outputs": [],
   "source": [
    "import digitalhub as dh\n",
    "import os\n",
    "PROJECT_NAME = \"mobility-data\"\n",
    "project = dh.get_or_create_project(PROJECT_NAME)"
   ]
  },
  {
   "cell_type": "markdown",
   "id": "d7ba9323-b2bd-4fff-a494-193efd5f3e37",
   "metadata": {},
   "source": [
    "## Open Data functions"
   ]
  },
  {
   "cell_type": "code",
   "execution_count": 2,
   "id": "f9b7ab47-2d1d-449e-bbf1-43bea0861cc9",
   "metadata": {},
   "outputs": [],
   "source": [
    "new_folder ='src'\n",
    "if not os.path.exists(new_folder):\n",
    "    os.makedirs(new_folder)"
   ]
  },
  {
   "cell_type": "code",
   "execution_count": 40,
   "id": "1fb9814c-1e96-4d64-a057-986f8424eb00",
   "metadata": {},
   "outputs": [],
   "source": [
    "func_download_road_areas = project.new_function(name=\"download-road-areas\",\n",
    "                                               kind=\"python\",\n",
    "                                               python_version=\"PYTHON3_10\",\n",
    "                                               source={\"source\": \"src/download-open-data.py\", \"handler\": \"download_road_areas\"},\n",
    "                                               requirements= [\"geopandas\"])"
   ]
  },
  {
   "cell_type": "code",
   "execution_count": 41,
   "id": "90c46404-5465-4a74-8d1d-a4c96acd6a21",
   "metadata": {},
   "outputs": [],
   "source": [
    "run_download_road_areas = func_download_road_areas.run(action=\"job\", parameters={'bucket': 'datalake'}, local_execution=False)"
   ]
  },
  {
   "cell_type": "code",
   "execution_count": 42,
   "id": "5135621a-e01e-4c68-87fc-334dd3081ae6",
   "metadata": {},
   "outputs": [],
   "source": [
    "func_download_road_edges = project.new_function(name=\"download-road-edges\",\n",
    "                                               kind=\"python\",\n",
    "                                               python_version=\"PYTHON3_10\",\n",
    "                                               source={\"source\": \"src/download-open-data.py\", \"handler\": \"download_road_edges\"},\n",
    "                                               requirements= [\"geopandas\"])"
   ]
  },
  {
   "cell_type": "code",
   "execution_count": 43,
   "id": "f50cd449-9866-44c5-a492-6a019de5a2e0",
   "metadata": {},
   "outputs": [],
   "source": [
    "run_download_road_edges = func_download_road_edges.run(action=\"job\", parameters={'bucket': 'datalake'}, local_execution=False)"
   ]
  },
  {
   "cell_type": "code",
   "execution_count": 44,
   "id": "2ee217d7-c86d-4acb-97c9-672a2e10e954",
   "metadata": {},
   "outputs": [],
   "source": [
    "func_download_road_nodes = project.new_function(name=\"download-road-nodes\",\n",
    "                                               kind=\"python\",\n",
    "                                               python_version=\"PYTHON3_10\",\n",
    "                                               source={\"source\": \"src/download-open-data.py\", \"handler\": \"download_road_nodes\"},\n",
    "                                               requirements= [\"geopandas\"])"
   ]
  },
  {
   "cell_type": "code",
   "execution_count": 45,
   "id": "78ecb3d0-0598-4e46-8d8a-5b89a74b097d",
   "metadata": {},
   "outputs": [],
   "source": [
    "run_download_road_nodes = func_download_road_nodes.run(action=\"job\", parameters={'bucket': 'datalake'}, local_execution=False)"
   ]
  },
  {
   "cell_type": "code",
   "execution_count": 46,
   "id": "9630c407-5f8f-4edd-bd78-2ea4db256bd7",
   "metadata": {},
   "outputs": [],
   "source": [
    "func_download_curves = project.new_function(name=\"download-curves\",\n",
    "                                               kind=\"python\",\n",
    "                                               python_version=\"PYTHON3_10\",\n",
    "                                               source={\"source\": \"src/download-open-data.py\", \"handler\": \"download_curves\"},\n",
    "                                               requirements= [\"geopandas\"])"
   ]
  },
  {
   "cell_type": "code",
   "execution_count": 47,
   "id": "c9223a11-f72b-4a11-b6c2-96cb47dabfa5",
   "metadata": {},
   "outputs": [],
   "source": [
    "run_download_curves = func_download_curves.run(action=\"job\", parameters={'bucket': 'datalake'}, local_execution=False)"
   ]
  },
  {
   "cell_type": "code",
   "execution_count": 48,
   "id": "f296319d-2434-4ed4-8bfb-16cd48dfce6a",
   "metadata": {},
   "outputs": [],
   "source": [
    "func_download_sidewalks = project.new_function(name=\"download-sidewalks\",\n",
    "                                               kind=\"python\",\n",
    "                                               python_version=\"PYTHON3_10\",\n",
    "                                               source={\"source\": \"src/download-open-data.py\", \"handler\": \"download_sidewalks\"},\n",
    "                                               requirements= [\"geopandas\"])"
   ]
  },
  {
   "cell_type": "code",
   "execution_count": 49,
   "id": "acbfb792-bc5f-4338-849e-8ea7dd87d038",
   "metadata": {},
   "outputs": [],
   "source": [
    "run_download_sidewalks = func_download_sidewalks.run(action=\"job\", parameters={'bucket': 'datalake'}, local_execution=False)"
   ]
  },
  {
   "cell_type": "code",
   "execution_count": 50,
   "id": "295ac699-db5e-428e-9bb5-a51cea0e4c53",
   "metadata": {},
   "outputs": [],
   "source": [
    "func_download_city30 = project.new_function(name=\"download-city30\",\n",
    "                                               kind=\"python\",\n",
    "                                               python_version=\"PYTHON3_10\",\n",
    "                                               source={\"source\": \"src/download-open-data.py\", \"handler\": \"download_city_30\"},\n",
    "                                               requirements= [\"geopandas\"])"
   ]
  },
  {
   "cell_type": "code",
   "execution_count": 51,
   "id": "c6f61d7b-c8fb-4e9c-8601-34deb1806908",
   "metadata": {},
   "outputs": [],
   "source": [
    "run_download_city30 = func_download_city30.run(action=\"job\", parameters={'bucket': 'datalake'}, local_execution=False)"
   ]
  },
  {
   "cell_type": "code",
   "execution_count": 52,
   "id": "6ed32be2-1536-439b-bab0-711d473ba0de",
   "metadata": {},
   "outputs": [],
   "source": [
    "func_download_charging_stations = project.new_function(name=\"download-charging-stations\",\n",
    "                                               kind=\"python\",\n",
    "                                               python_version=\"PYTHON3_10\",\n",
    "                                               source={\"source\": \"src/download-open-data.py\", \"handler\": \"download_charging_stations\"},\n",
    "                                               requirements= [\"geopandas\"])"
   ]
  },
  {
   "cell_type": "code",
   "execution_count": 53,
   "id": "1f867ffc-145c-40dd-b6bf-34dc8981a63b",
   "metadata": {},
   "outputs": [],
   "source": [
    "run_download_charging_stations = func_download_charging_stations.run(action=\"job\", parameters={'bucket': 'datalake'}, local_execution=False)"
   ]
  },
  {
   "cell_type": "code",
   "execution_count": 54,
   "id": "c3558d2d-19fa-4da2-9c7f-2794722b5c67",
   "metadata": {},
   "outputs": [],
   "source": [
    "func_download_bike_path = project.new_function(name=\"download-bike-path\",\n",
    "                                               kind=\"python\",\n",
    "                                               python_version=\"PYTHON3_10\",\n",
    "                                               source={\"source\": \"src/download-open-data.py\", \"handler\": \"download_bike_path\"},\n",
    "                                               requirements= [\"geopandas\"])"
   ]
  },
  {
   "cell_type": "code",
   "execution_count": 55,
   "id": "af9b4414-8409-4fe8-8c1a-3793aa05e203",
   "metadata": {},
   "outputs": [],
   "source": [
    "run_download_bike_path = func_download_bike_path.run(action=\"job\", parameters={'bucket': 'datalake'}, local_execution=False)"
   ]
  },
  {
   "cell_type": "code",
   "execution_count": 56,
   "id": "74bf1e38-b47c-42f2-9793-8316ad978fff",
   "metadata": {},
   "outputs": [],
   "source": [
    "func_download_incidents = project.new_function(name=\"download-incidents\",\n",
    "                                               kind=\"python\",\n",
    "                                               python_version=\"PYTHON3_10\",\n",
    "                                               source={\"source\": \"src/download-open-data.py\", \"handler\": \"download_incidents\"},\n",
    "                                               requirements= [\"geopandas\"])"
   ]
  },
  {
   "cell_type": "code",
   "execution_count": 57,
   "id": "2ae1fbc0-6ee7-42d7-85db-329a3cff6921",
   "metadata": {},
   "outputs": [],
   "source": [
    "run_download_incidents = func_download_incidents.run(action=\"job\", parameters={'bucket': 'datalake'}, local_execution=False)"
   ]
  },
  {
   "cell_type": "code",
   "execution_count": 58,
   "id": "9254682b-53c0-4b6b-bec4-0824c3a6bdc9",
   "metadata": {},
   "outputs": [],
   "source": [
    "func_download_bike_parking_places = project.new_function(name=\"download-bike-parking-places\",\n",
    "                                               kind=\"python\",\n",
    "                                               python_version=\"PYTHON3_10\",\n",
    "                                               source={\"source\": \"src/download-open-data.py\", \"handler\": \"download_bike_parking_places\"},\n",
    "                                               requirements= [\"geopandas\"])"
   ]
  },
  {
   "cell_type": "code",
   "execution_count": 59,
   "id": "a0fac73f-ff58-4cc1-b59c-9913390c09d7",
   "metadata": {},
   "outputs": [],
   "source": [
    "run_download_bike_parking_places = func_download_bike_parking_places.run(action=\"job\", parameters={'bucket': 'datalake'}, local_execution=False)"
   ]
  },
  {
   "cell_type": "code",
   "execution_count": 60,
   "id": "7267f03c-e386-42f4-ba73-3522c3a301df",
   "metadata": {},
   "outputs": [],
   "source": [
    "func_download_car_parkings = project.new_function(name=\"download-bike-parking-places\",\n",
    "                                               kind=\"python\",\n",
    "                                               python_version=\"PYTHON3_10\",\n",
    "                                               source={\"source\": \"src/download-open-data.py\", \"handler\": \"download_car_parkings\"},\n",
    "                                               requirements= [\"geopandas\"])"
   ]
  },
  {
   "cell_type": "code",
   "execution_count": 61,
   "id": "a8015c2c-8d3e-4cec-926e-b9b5ef4d9d5c",
   "metadata": {},
   "outputs": [],
   "source": [
    "run_download_car_parkings = func_download_car_parkings.run(action=\"job\", parameters={'bucket': 'datalake'}, local_execution=False)"
   ]
  },
  {
   "cell_type": "code",
   "execution_count": 62,
   "id": "21274d7f-9128-4def-95d8-6ce39161c110",
   "metadata": {},
   "outputs": [],
   "source": [
    "func_download_bus_stops_tper = project.new_function(name=\"download-bus-stops-tper\",\n",
    "                                               kind=\"python\",\n",
    "                                               python_version=\"PYTHON3_10\",\n",
    "                                               source={\"source\": \"src/download-open-data.py\", \"handler\": \"download_bus_stops_tper\"},\n",
    "                                               requirements= [\"geopandas\"])"
   ]
  },
  {
   "cell_type": "code",
   "execution_count": 63,
   "id": "0f3904b3-da9e-4a99-8708-f9fab253a406",
   "metadata": {},
   "outputs": [],
   "source": [
    "run_download_bus_stops_tper = func_download_bus_stops_tper.run(action=\"job\", parameters={'bucket': 'datalake'}, local_execution=False)"
   ]
  },
  {
   "cell_type": "code",
   "execution_count": 64,
   "id": "785e801b-bb09-4a16-a8f0-dac15b6667c0",
   "metadata": {},
   "outputs": [],
   "source": [
    "func_download_train_stops_tper = project.new_function(name=\"download-train-stops-tper\",\n",
    "                                               kind=\"python\",\n",
    "                                               python_version=\"PYTHON3_10\",\n",
    "                                               source={\"source\": \"src/download-open-data.py\", \"handler\": \"download_train_stops_tper\"},\n",
    "                                               requirements= [\"geopandas\"])"
   ]
  },
  {
   "cell_type": "code",
   "execution_count": 65,
   "id": "97b6d4f5-d286-415f-9dc8-f99a7438ec87",
   "metadata": {},
   "outputs": [],
   "source": [
    "run_download_train_stops_tper = func_download_train_stops_tper.run(action=\"job\", parameters={'bucket': 'datalake'}, local_execution=False)"
   ]
  },
  {
   "cell_type": "markdown",
   "id": "ffd1e6a6-ee79-440f-b9da-8557835e71bf",
   "metadata": {},
   "source": [
    "## Google Drive Functions"
   ]
  },
  {
   "cell_type": "markdown",
   "id": "d242a6ee-81c0-477e-84c0-32fc4ba3e73c",
   "metadata": {},
   "source": [
    "### Define and Build Functions: Download Traffic Spire"
   ]
  },
  {
   "cell_type": "markdown",
   "id": "4a07de29-4c0e-42e9-8b60-52ed1e1acea2",
   "metadata": {},
   "source": [
    "#### Create Secret Token"
   ]
  },
  {
   "cell_type": "markdown",
   "id": "48d64c4d-fc95-4633-8a80-2a74c926cdbf",
   "metadata": {},
   "source": [
    "In order to read the files inside Google drive directory, it is required to create secret key,value pair inside to the project. Go to the 'Secret' section of project and create a new secret name 'token' with the value of Google drive token."
   ]
  },
  {
   "cell_type": "code",
   "execution_count": 69,
   "id": "3ae319c0-e821-421f-9080-50ccc668aff8",
   "metadata": {},
   "outputs": [],
   "source": [
    "project.new_secret(name=\"token\", secret_value=\"YOUR-TOKEN-VALUE\")"
   ]
  },
  {
   "cell_type": "code",
   "execution_count": null,
   "id": "d469ffdd-7b8c-4075-9b61-45b2b4ad318b",
   "metadata": {},
   "outputs": [],
   "source": [
    "func_download_traffic_spire = project.new_function(\n",
    "    name=\"download-traffic-spire\",\n",
    "    kind=\"python\",\n",
    "    python_version=\"PYTHON3_10\",\n",
    "    source={\"source\": \"src/download-spire.py\", \"handler\": \"get_spire\"},\n",
    "    requirements=['google-api-python-client', 'google_auth_oauthlib']\n",
    ")"
   ]
  },
  {
   "cell_type": "code",
   "execution_count": null,
   "id": "5e724f5e-85a0-4875-bfd7-0581029b60de",
   "metadata": {},
   "outputs": [],
   "source": [
    "# !pip install google-api-python-client google_auth_oauthlib"
   ]
  },
  {
   "cell_type": "code",
   "execution_count": null,
   "id": "f773041c-2c2f-4dfa-a8a1-e94a26d7df07",
   "metadata": {},
   "outputs": [],
   "source": [
    "run_download_traffic_spire = func_download_traffic_spire.run(action=\"job\", parameters={'bucket': 'datalake'}, local_execution=False)"
   ]
  },
  {
   "cell_type": "code",
   "execution_count": null,
   "id": "f3a97b8c-d6aa-4278-85ea-d71736776c25",
   "metadata": {},
   "outputs": [],
   "source": [
    "func_download_traffic_spire_accuracy = project.new_function(\n",
    "    name=\"download-traffic-spire-accuracy\",\n",
    "    kind=\"python\",\n",
    "    python_version=\"PYTHON3_10\",\n",
    "    source={\"source\": \"src/download-spire.py\", \"handler\": \"get_spire_accur\"},\n",
    "    requirements=['google-api-python-client', 'google_auth_oauthlib']\n",
    ")"
   ]
  },
  {
   "cell_type": "code",
   "execution_count": null,
   "id": "23a7e71a-1d05-4f1e-b218-27228328dc34",
   "metadata": {},
   "outputs": [],
   "source": [
    "run_download_traffic_spire_accuracy = func_download_traffic_spire_accuracy.run(action=\"job\", parameters={'bucket': 'datalake'}, local_execution=False)"
   ]
  },
  {
   "cell_type": "code",
   "execution_count": null,
   "id": "119c50f2-b14e-4ee8-8ac4-6e395a8afd58",
   "metadata": {},
   "outputs": [],
   "source": []
  }
 ],
 "metadata": {
  "kernelspec": {
   "display_name": "Python 3 (ipykernel)",
   "language": "python",
   "name": "python3"
  },
  "language_info": {
   "codemirror_mode": {
    "name": "ipython",
    "version": 3
   },
   "file_extension": ".py",
   "mimetype": "text/x-python",
   "name": "python",
   "nbconvert_exporter": "python",
   "pygments_lexer": "ipython3",
   "version": "3.10.11"
  }
 },
 "nbformat": 4,
 "nbformat_minor": 5
}
