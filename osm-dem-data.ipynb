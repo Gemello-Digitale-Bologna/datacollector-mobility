{
 "cells": [
  {
   "cell_type": "code",
   "execution_count": 51,
   "metadata": {},
   "outputs": [],
   "source": [
    "import digitalhub as dh\n",
    "import os\n",
    "PROJECT_NAME = \"mobility-data\"\n",
    "project = dh.get_or_create_project(PROJECT_NAME)"
   ]
  },
  {
   "cell_type": "code",
   "execution_count": 52,
   "metadata": {},
   "outputs": [],
   "source": [
    "new_folder ='src'\n",
    "if not os.path.exists(new_folder):\n",
    "    os.makedirs(new_folder)"
   ]
  },
  {
   "cell_type": "code",
   "execution_count": 53,
   "metadata": {},
   "outputs": [],
   "source": [
    "# !pip install osmnx folium rasterio xarray rioxarray owslib geopandas"
   ]
  },
  {
   "cell_type": "markdown",
   "metadata": {},
   "source": [
    "## Download OSM"
   ]
  },
  {
   "cell_type": "code",
   "execution_count": 59,
   "metadata": {},
   "outputs": [],
   "source": [
    "func_download_osm = project.new_function(name=\"download-osm\",\n",
    "                                               kind=\"python\",\n",
    "                                               python_version=\"PYTHON3_10\",\n",
    "                                               source={\"source\": \"src/download-data.py\", \"handler\": \"download_osm\"},\n",
    "                                               requirements= [\"osmnx\", \"folium\", \"rasterio\", \"xarray\", \"rioxarray\", \"owslib\", \"geopandas\"])"
   ]
  },
  {
   "cell_type": "code",
   "execution_count": 60,
   "metadata": {},
   "outputs": [],
   "source": [
    "run_download_osm = func_download_osm.run(action=\"job\", parameters={'query': 'bologna'}, local_execution=False)"
   ]
  },
  {
   "cell_type": "markdown",
   "metadata": {},
   "source": [
    "## Download DEM"
   ]
  },
  {
   "cell_type": "code",
   "execution_count": 61,
   "metadata": {},
   "outputs": [],
   "source": [
    "func_download_dem = project.new_function(name=\"download-dem\",\n",
    "                                               kind=\"python\",\n",
    "                                               python_version=\"PYTHON3_10\",\n",
    "                                               source={\"source\": \"src/download-data.py\", \"handler\": \"download_dem\"},\n",
    "                                               requirements= [\"osmnx\", \"folium\", \"rasterio\", \"xarray\", \"rioxarray\", \"owslib\", \"geopandas\"])"
   ]
  },
  {
   "cell_type": "code",
   "execution_count": 63,
   "metadata": {},
   "outputs": [],
   "source": [
    "run_download_dem = func_download_dem.run(action=\"job\", parameters={'query': 'bologna'}, local_execution=False)"
   ]
  },
  {
   "cell_type": "markdown",
   "metadata": {},
   "source": [
    "## Merge OSM DEM"
   ]
  },
  {
   "cell_type": "code",
   "execution_count": 64,
   "metadata": {},
   "outputs": [
    {
     "data": {
      "text/plain": [
       "'store://mobility-data/artifact/artifact/osm_nodes:d833d6b8e93e4fb7a454bf1db41c36ac'"
      ]
     },
     "execution_count": 64,
     "metadata": {},
     "output_type": "execute_result"
    }
   ],
   "source": [
    "nodes = project.get_artifact('osm_nodes')\n",
    "nodes.key"
   ]
  },
  {
   "cell_type": "code",
   "execution_count": 65,
   "metadata": {},
   "outputs": [
    {
     "data": {
      "text/plain": [
       "'store://mobility-data/artifact/artifact/osm_edges:30d4051ec6b942f6af9ce8450955413a'"
      ]
     },
     "execution_count": 65,
     "metadata": {},
     "output_type": "execute_result"
    }
   ],
   "source": [
    "edges = project.get_artifact('osm_edges')\n",
    "edges.key"
   ]
  },
  {
   "cell_type": "code",
   "execution_count": 67,
   "metadata": {},
   "outputs": [
    {
     "data": {
      "text/plain": [
       "'store://mobility-data/artifact/artifact/osm_buildings:bba198d55c804b09a5af1f63903366b0'"
      ]
     },
     "execution_count": 67,
     "metadata": {},
     "output_type": "execute_result"
    }
   ],
   "source": [
    "buildings = project.get_artifact('osm_buildings')\n",
    "buildings.key"
   ]
  },
  {
   "cell_type": "code",
   "execution_count": 68,
   "metadata": {},
   "outputs": [
    {
     "data": {
      "text/plain": [
       "'store://mobility-data/artifact/artifact/dem_model:391e8eb5cec54afe804a4b9c275c0ef8'"
      ]
     },
     "execution_count": 68,
     "metadata": {},
     "output_type": "execute_result"
    }
   ],
   "source": [
    "dem = project.get_artifact('dem_model')\n",
    "dem.key"
   ]
  },
  {
   "cell_type": "code",
   "execution_count": 69,
   "metadata": {},
   "outputs": [],
   "source": [
    "func_merge_osm_dem = project.new_function(name=\"merge-osm-dem\",\n",
    "                                               kind=\"python\",\n",
    "                                               python_version=\"PYTHON3_10\",\n",
    "                                               source={\"source\": \"src/download-data.py\", \"handler\": \"merge_osm_dem\"},\n",
    "                                               requirements= [\"osmnx\", \"folium\", \"rasterio\", \"xarray\", \"rioxarray\", \"owslib\", \"geopandas\"])"
   ]
  },
  {
   "cell_type": "code",
   "execution_count": 70,
   "metadata": {},
   "outputs": [],
   "source": [
    "run_merge_osm_dem = func_merge_osm_dem.run(action=\"job\", inputs={'nodes': nodes.key, 'edges': edges.key, 'buildings': buildings.key, 'dem': dem.key}, local_execution=False)"
   ]
  },
  {
   "cell_type": "code",
   "execution_count": null,
   "metadata": {},
   "outputs": [],
   "source": []
  }
 ],
 "metadata": {
  "kernelspec": {
   "display_name": "Python 3 (ipykernel)",
   "language": "python",
   "name": "python3"
  },
  "language_info": {
   "codemirror_mode": {
    "name": "ipython",
    "version": 3
   },
   "file_extension": ".py",
   "mimetype": "text/x-python",
   "name": "python",
   "nbconvert_exporter": "python",
   "pygments_lexer": "ipython3",
   "version": "3.10.11"
  }
 },
 "nbformat": 4,
 "nbformat_minor": 4
}
